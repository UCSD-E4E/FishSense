{
  "nbformat": 4,
  "nbformat_minor": 0,
  "metadata": {
    "colab": {
      "name": "depth_to_colormap_conversion_tool.ipynb",
      "provenance": []
    },
    "kernelspec": {
      "name": "python3",
      "display_name": "Python 3"
    },
    "language_info": {
      "name": "python"
    }
  },
  "cells": [
    {
      "cell_type": "markdown",
      "metadata": {
        "id": "kt4iHJ7pSsOL"
      },
      "source": [
        "# Depth to Colormap Conversion Instructions"
      ]
    },
    {
      "cell_type": "markdown",
      "metadata": {
        "id": "MPeNn3eNS2j2"
      },
      "source": [
        "**Input:** .zip file of .csv depth files\n",
        "\n",
        "**Output:** .zip file of cleaned .csv depth files, .png colorized depth files, and .png figures\n",
        "\n",
        "> 1. Take all of your selected .csv depth files that you want to colorize and compress them into a .zip file with the name of **depth_data**, and\n",
        "drag it into the files folder in the left sidebar.\n",
        ">\n",
        "> 2. Run sections **Imports**, **Upload Depth Data (CSV File)**, **Clean Data Functions**, **Depth to Cmap Conversion**, **Create Figure**, and **Remove All Files**.\n",
        ">\n",
        "> 3. Run section **Run**. Your depth data will begin being cleaned and colorized. Please be patient as it may take a moment depending on your input size.\n",
        ">\n",
        "> 4. Download the now available .zip file **colorized_depth_data.zip** from the file folder in the sidebar. If it is not there, click the Refresh Files button in the left sidebar. Once the download is finished, extract all of its contents to view the colorized depth data.\n",
        ">\n",
        "> 5. To convert another .zip file of depth data to colormaps, click **Runtime > Factory reset runtime**. Then, run **Imports** (or any code block EXCEPT for Run) to allow file uploads. After that, repeat steps 1-4.\n",
        "\n",
        "\n",
        "> OPTIONAL: If you would like to experiment with different types of colormaps, go to the code block under **Depth to Cmap Conversion > Colormap Type**\n"
      ]
    },
    {
      "cell_type": "markdown",
      "metadata": {
        "id": "AEYuNqfBJaV4"
      },
      "source": [
        "# Imports\n",
        "\n"
      ]
    },
    {
      "cell_type": "code",
      "metadata": {
        "id": "oNlGpENdJRUB"
      },
      "source": [
        "import csv\n",
        "import cv2\n",
        "import os\n",
        "import numpy as np\n",
        "import pandas as pd\n",
        "from PIL import Image\n",
        "import PIL.Image as pil\n",
        "import matplotlib.pyplot as plt\n",
        "import matplotlib as mpl\n",
        "import matplotlib.cm as cm\n",
        "from scipy import misc\n",
        "from google.colab import files\n",
        "import zipfile as zf\n",
        "import shutil"
      ],
      "execution_count": null,
      "outputs": []
    },
    {
      "cell_type": "markdown",
      "metadata": {
        "id": "ArgrgObDTV47"
      },
      "source": [
        "# Upload Depth Data (CSV File)"
      ]
    },
    {
      "cell_type": "code",
      "metadata": {
        "id": "K7MRChOkiYK2"
      },
      "source": [
        "def setup():\n",
        "  os.makedirs(\"all_data\")\n",
        "\n",
        "  # Make necessary directories\n",
        "  dirs = [\"all_data/figures\", \"all_data/colorized\"]\n",
        "  for dir in dirs: os.makedirs(dir)\n",
        "\n",
        "  # Unzip and extract depth data from zip file\n",
        "  files = zf.ZipFile(\"depth_data.zip\", 'r')\n",
        "  files.extractall('all_data/depth_data')\n",
        "  files.close()\n",
        "\n",
        "  # Get list of depth data file names\n",
        "  file_list = os.listdir('all_data/depth_data')\n",
        "\n",
        "  return file_list"
      ],
      "execution_count": null,
      "outputs": []
    },
    {
      "cell_type": "markdown",
      "metadata": {
        "id": "hzKB2Fl9RGCV"
      },
      "source": [
        "# Clean Data Functions"
      ]
    },
    {
      "cell_type": "markdown",
      "metadata": {
        "id": "tWvOHA6CaWhm"
      },
      "source": [
        "## Get Max and Min Values of CSV Function"
      ]
    },
    {
      "cell_type": "code",
      "metadata": {
        "id": "gUVawOLt_ecM"
      },
      "source": [
        "def get_range(df):\n",
        "  max = []\n",
        "  min = []\n",
        "  \n",
        "  # Find and saves max and min of each column\n",
        "  for column in df:\n",
        "    max.append(df[column].max())\n",
        "    min.append(df[column].min())\n",
        "\n",
        "  return np.max(max), np.min(min)"
      ],
      "execution_count": null,
      "outputs": []
    },
    {
      "cell_type": "markdown",
      "metadata": {
        "id": "t7LKYxPDach4"
      },
      "source": [
        "## Replace All False Readings"
      ]
    },
    {
      "cell_type": "code",
      "metadata": {
        "id": "yy6B4yr5RFwu"
      },
      "source": [
        "def remove_false_readings(csv_filename):\n",
        "  # Load CSV into pandas dataframe\n",
        "  df=pd.read_csv(\"all_data/depth_data/\" + csv_filename)\n",
        "\n",
        "  # # Check current max and min depth values\n",
        "  # max_depth, min_depth = get_range(df)\n",
        "  # print(\"Current Max:\", max_depth, \"\\nCurrent Min:\", min_depth)\n",
        "\n",
        "  # # Keep track of false depth readings\n",
        "  # badReadingCount = 0\n",
        "\n",
        "  # Iterate over all cells of CSV\n",
        "  for column in df:\n",
        "    row_index = 0\n",
        "    for value in df[column]:\n",
        "      # Replace all false readings with 0\n",
        "      if value > 6:\n",
        "        # badReadingCount += 1\n",
        "        df[column][row_index] = 0\n",
        "      row_index += 1\n",
        "\n",
        "  # Save cleaned data to new CSV\n",
        "  df.to_csv(\"all_data/depth_data/\" + csv_filename, index=False, header=False)\n",
        "\n",
        "  # Get new max and min values\n",
        "  max_depth, min_depth = get_range(df)\n",
        "\n",
        "  # # Check new max and min values\n",
        "  # print(\"New Max:\", max_depth, \"\\nNew Min:\", min_depth)\n",
        "\n",
        "  # # Check total number of false readings\n",
        "  # print(\"Bad reading count:\", badReadingCount)\n",
        "\n",
        "  return max_depth, min_depth"
      ],
      "execution_count": null,
      "outputs": []
    },
    {
      "cell_type": "markdown",
      "metadata": {
        "id": "1rGGIJftJgdM"
      },
      "source": [
        "# Depth to Cmap Conversion"
      ]
    },
    {
      "cell_type": "markdown",
      "metadata": {
        "id": "ZDIR0g7EcxWs"
      },
      "source": [
        "## Colormap Type"
      ]
    },
    {
      "cell_type": "code",
      "metadata": {
        "id": "PZSL8nOEcwir"
      },
      "source": [
        "cmap_type = 'rainbow'\n",
        "\n",
        "# For a list of different colormap types, visit https://www.kite.com/python/docs/matplotlib.pyplot.colormaps"
      ],
      "execution_count": null,
      "outputs": []
    },
    {
      "cell_type": "markdown",
      "metadata": {
        "id": "WirvoWPGu0iI"
      },
      "source": [
        "## Create Colormap Using .imshow()"
      ]
    },
    {
      "cell_type": "code",
      "metadata": {
        "id": "3gj4gCSBu232"
      },
      "source": [
        "# Create color map using Matplotlib\n",
        "def create_cmap(csv_filename):\n",
        "  with open(\"all_data/depth_data/\" + csv_filename, encoding='UTF-8-sig') as csvfile:\n",
        "    depth_data = np.loadtxt(csvfile, delimiter=\",\", skiprows=0)  #Get the data in the file\n",
        "    fig = plt.imshow(depth_data, cmap=cmap_type)\n",
        "    fig.axes.get_xaxis().set_visible(False)\n",
        "    fig.axes.get_yaxis().set_visible(False)\n",
        "\n",
        "    plt.savefig(\"all_data/colorized/\" + csv_filename.replace(\".csv\", \"_colorized.png\"), bbox_inches='tight')\n",
        "    plt.close()\n",
        "\n",
        "  return depth_data"
      ],
      "execution_count": null,
      "outputs": []
    },
    {
      "cell_type": "markdown",
      "metadata": {
        "id": "J5aXAPAsm9Vu"
      },
      "source": [
        "# Create Figure"
      ]
    },
    {
      "cell_type": "code",
      "metadata": {
        "id": "xtwI4_bdm8z0"
      },
      "source": [
        "def create_figure(csv_filename, max_depth, min_depth, depth_data):\n",
        "  normalizer = mpl.colors.Normalize(vmin=min_depth, vmax=max_depth)\n",
        "  mapper = cm.ScalarMappable(norm=normalizer, cmap=cmap_type)\n",
        "\n",
        "  fig, ax = plt.subplots()\n",
        "  fig.colorbar(mapper)\n",
        "  plt.imshow(depth_data, cmap=cmap_type)\n",
        "  fig_name = \"all_data/figures/\" + csv_filename.replace(\".csv\", \"\") + \"_figure.png\"\n",
        "  plt.savefig(fig_name, bbox_inches='tight')\n",
        "  plt.close()\n",
        "\n",
        "  return None"
      ],
      "execution_count": null,
      "outputs": []
    },
    {
      "cell_type": "markdown",
      "metadata": {
        "id": "ItMTDRnN8oXo"
      },
      "source": [
        "# Remove All Files"
      ]
    },
    {
      "cell_type": "code",
      "metadata": {
        "id": "F2MUzug88hAS"
      },
      "source": [
        "def remove_all_files(del_zip=False):\n",
        "  ignore = ['.config', '.ipynb_checkpoints']\n",
        "  for file in os.listdir():\n",
        "    if file in ignore:\n",
        "      continue\n",
        "    elif file == 'colorized_depth_data.zip':\n",
        "      os.remove(file)\n",
        "      continue\n",
        "    elif file == 'depth_data.zip' and del_zip == False:\n",
        "      continue\n",
        "    elif file == 'depth_data.zip' and del_zip == True:\n",
        "      os.remove(file)\n",
        "      continue\n",
        "    else:\n",
        "      for dir in os.listdir(file):\n",
        "        for f in os.listdir(file + \"/\" + dir):\n",
        "          os.remove(file + \"/\" + dir + \"/\" + f)\n",
        "        os.rmdir(file + \"/\" + dir)\n",
        "      os.rmdir(file)\n",
        "  \n",
        "  return None"
      ],
      "execution_count": null,
      "outputs": []
    },
    {
      "cell_type": "markdown",
      "metadata": {
        "id": "FB17vyjyjnqB"
      },
      "source": [
        "# Run"
      ]
    },
    {
      "cell_type": "code",
      "metadata": {
        "id": "Ee3QV9b-jmy3",
        "colab": {
          "base_uri": "https://localhost:8080/",
          "height": 102
        },
        "outputId": "5b9dc570-c319-447d-b16d-d42fc49ad016"
      },
      "source": [
        "# remove_all_files()\n",
        "file_list = setup()\n",
        "\n",
        "for file in file_list:\n",
        "  if file == \".ipynb_checkpoints\":\n",
        "    continue\n",
        "  max_depth, min_depth = remove_false_readings(file)\n",
        "  depth_data = create_cmap(file)\n",
        "  create_figure(file, max_depth, min_depth, depth_data)\n",
        "\n",
        "shutil.make_archive(\"colorized_depth_data\", 'zip', \"all_data\")"
      ],
      "execution_count": null,
      "outputs": [
        {
          "output_type": "stream",
          "text": [
            "/usr/local/lib/python3.7/dist-packages/ipykernel_launcher.py:19: SettingWithCopyWarning: \n",
            "A value is trying to be set on a copy of a slice from a DataFrame\n",
            "\n",
            "See the caveats in the documentation: https://pandas.pydata.org/pandas-docs/stable/user_guide/indexing.html#returning-a-view-versus-a-copy\n"
          ],
          "name": "stderr"
        },
        {
          "output_type": "execute_result",
          "data": {
            "application/vnd.google.colaboratory.intrinsic+json": {
              "type": "string"
            },
            "text/plain": [
              "'/content/colorized_depth_data.zip'"
            ]
          },
          "metadata": {},
          "execution_count": 11
        }
      ]
    }
  ]
}