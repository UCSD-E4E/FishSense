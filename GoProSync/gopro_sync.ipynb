{
 "cells": [
  {
   "cell_type": "code",
   "execution_count": 2,
   "id": "555f422f",
   "metadata": {},
   "outputs": [],
   "source": [
    "import wave\n",
    "import numpy as np\n",
    "import matplotlib.pyplot as plt\n",
    "import stumpy\n",
    "import os\n",
    "from moviepy.editor import *"
   ]
  },
  {
   "cell_type": "code",
   "execution_count": 1,
   "id": "14a773b2",
   "metadata": {},
   "outputs": [],
   "source": [
    "# Used to separate audio from the video. The audio will later be used for synchronization\n",
    "\n",
    "# left = mp.VideoFileClip(r\"left.mp4\")\n",
    "\n",
    "# left.audio.write_audiofile(r\"left.wav\")\n",
    "\n",
    "# right = mp.VideoFileClip(r\"right.mp4\")\n",
    "\n",
    "# right.audio.write_audiofile(r\"right.wav\")"
   ]
  },
  {
   "cell_type": "code",
   "execution_count": null,
   "id": "4e1fe146",
   "metadata": {},
   "outputs": [],
   "source": [
    "print(os.getcwd())\n",
    "left_wav = wave.open(\"left.wav\", \"rb\")\n",
    "right_wav = wave.open(\"right.wav\", \"rb\")"
   ]
  },
  {
   "cell_type": "code",
   "execution_count": null,
   "id": "233e7290",
   "metadata": {},
   "outputs": [],
   "source": [
    "left_freq = left_wav.getframerate()\n",
    "right_freq = right_wav.getframerate()\n",
    "\n",
    "left_samples = left_wav.getnframes()\n",
    "right_samples = right_wav.getnframes()\n",
    "\n",
    "left_signal = left_wav.readframes(left_samples)\n",
    "right_signal = right_wav.readframes(right_samples)\n",
    "\n",
    "print(len(left_signal))\n",
    "print(len(right_signal))\n",
    "print(left_samples/left_freq)\n",
    "print(right_samples/right_freq)\n",
    "\n",
    "left_audio = left_samples/left_freq\n",
    "right_audio = right_samples/right_freq"
   ]
  },
  {
   "cell_type": "code",
   "execution_count": null,
   "id": "44e9cd0e",
   "metadata": {},
   "outputs": [],
   "source": [
    "left_signal_array = np.frombuffer(left_signal, dtype=np.int16)\n",
    "right_signal_array = np.frombuffer(right_signal, dtype=np.int16)\n",
    "\n",
    "print(np.shape(left_signal_array))\n",
    "print(np.shape(right_signal_array))"
   ]
  },
  {
   "cell_type": "code",
   "execution_count": null,
   "id": "a7151b7f",
   "metadata": {},
   "outputs": [],
   "source": [
    "times_left = np.linspace(0, left_samples/left_freq, num=left_samples)\n",
    "times_right = np.linspace(0, right_samples/right_freq, num=right_samples)\n",
    "\n",
    "# Use right channel for left camera and left channel for right camera\n",
    "left_channel = left_signal_array[1::2]\n",
    "right_channel = right_signal_array[0::2]\n",
    "\n",
    "\n",
    "# fft_left = np.fft.fft(left_channel)\n",
    "# fft_right = np.fft.fft(right_channel)"
   ]
  },
  {
   "cell_type": "code",
   "execution_count": null,
   "id": "b384b6f0",
   "metadata": {},
   "outputs": [],
   "source": [
    "\n",
    "plt.figure(figsize=(15, 5))\n",
    "plt.plot(times_left, left_channel)\n",
    "plt.title('Left Camera')\n",
    "plt.ylabel('Signal Value')\n",
    "plt.xlabel('Time (s)')\n",
    "plt.xlim(0, left_audio)\n",
    "plt.show()"
   ]
  },
  {
   "cell_type": "code",
   "execution_count": null,
   "id": "94105306",
   "metadata": {},
   "outputs": [],
   "source": [
    "\n",
    "plt.figure(figsize=(15, 5))\n",
    "plt.plot(times_right, right_channel)\n",
    "plt.title('Right Camera')\n",
    "plt.ylabel('Signal Value')\n",
    "plt.xlabel('Time (s)')\n",
    "plt.xlim(0, right_audio)\n",
    "plt.show()"
   ]
  },
  {
   "cell_type": "code",
   "execution_count": null,
   "id": "1f89b280",
   "metadata": {},
   "outputs": [],
   "source": [
    "\n",
    "# plt.figure(figsize=(15, 5))\n",
    "# plt.plot(times_left, fft_left)\n",
    "# plt.title('Left Camera')\n",
    "# plt.ylabel('FFT Signal Value')\n",
    "# plt.xlabel('Time (s)')\n",
    "# plt.xlim(0, left_audio)\n",
    "# plt.show()"
   ]
  },
  {
   "cell_type": "code",
   "execution_count": null,
   "id": "2e7ad223",
   "metadata": {},
   "outputs": [],
   "source": [
    "\n",
    "# plt.figure(figsize=(15, 5))\n",
    "# plt.plot(times_right, fft_right)\n",
    "# plt.title('Right Camera')\n",
    "# plt.ylabel('Signal Value')\n",
    "# plt.xlabel('Time (s)')\n",
    "# plt.xlim(0, right_audio)\n",
    "# plt.show()"
   ]
  },
  {
   "cell_type": "code",
   "execution_count": null,
   "id": "4af93408",
   "metadata": {},
   "outputs": [],
   "source": [
    "left_spike = left_channel.argmax()\n",
    "right_spike = right_channel.argmax()\n",
    "\n",
    "left_spike_start = left_spike-10000\n",
    "left_spike_end = left_spike+10000\n",
    "\n",
    "right_spike_start = right_spike-10000\n",
    "right_spike_end = right_spike+10000"
   ]
  },
  {
   "cell_type": "code",
   "execution_count": null,
   "id": "16ea3997",
   "metadata": {},
   "outputs": [],
   "source": [
    "plt.figure(figsize=(15, 5))\n",
    "plt.plot(times_left, left_channel)\n",
    "plt.plot(times_left[left_spike_start:left_spike_end], left_channel[left_spike_start:left_spike_end], color=\"r\")\n",
    "plt.title('Left Camera')\n",
    "plt.ylabel('Signal Value')\n",
    "plt.xlabel('Time (s)')\n",
    "plt.xlim(0, left_audio)\n",
    "plt.show()"
   ]
  },
  {
   "cell_type": "code",
   "execution_count": null,
   "id": "59acccf6",
   "metadata": {},
   "outputs": [],
   "source": [
    "plt.figure(figsize=(15, 5))\n",
    "plt.plot(times_right, right_channel)\n",
    "plt.plot(times_right[right_spike-10000:right_spike+10000], right_channel[right_spike-10000:right_spike+10000], color=\"r\")\n",
    "\n",
    "plt.title('Right Camera')\n",
    "plt.ylabel('Signal Value')\n",
    "plt.xlabel('Time (s)')\n",
    "plt.xlim(0, right_audio)\n",
    "plt.show()"
   ]
  },
  {
   "cell_type": "code",
   "execution_count": null,
   "id": "bf815c1c",
   "metadata": {},
   "outputs": [],
   "source": [
    "m = 10000\n",
    "left_subarray = left_channel[left_spike_start:left_spike_end]\n",
    "right_subarray = right_channel[right_spike_start:right_spike_end]"
   ]
  },
  {
   "cell_type": "code",
   "execution_count": null,
   "id": "9dffe846",
   "metadata": {},
   "outputs": [],
   "source": [
    "matrix_profile = stumpy.stump(T_A=left_subarray.astype(np.float64), m=m, T_B=right_subarray.astype(np.float64), ignore_trivial=False)"
   ]
  },
  {
   "cell_type": "code",
   "execution_count": null,
   "id": "09ae4a1c",
   "metadata": {},
   "outputs": [],
   "source": [
    "plt.plot(matrix_profile[:,0])\n",
    "plt.title('Matrix Profile')\n",
    "plt.ylabel('Value')\n",
    "plt.xlabel('Subsequence Number')"
   ]
  },
  {
   "cell_type": "code",
   "execution_count": null,
   "id": "703dc77c",
   "metadata": {},
   "outputs": [],
   "source": [
    "left_motif_index = matrix_profile[:,0].argmin()\n",
    "right_motif_index = matrix_profile[left_motif_index,1] + right_spike_start\n",
    "left_motif_index += left_spike_start\n",
    "print(left_motif_index)"
   ]
  },
  {
   "cell_type": "code",
   "execution_count": null,
   "id": "74c2e669",
   "metadata": {},
   "outputs": [],
   "source": [
    "plt.figure(figsize=(15, 5))\n",
    "plt.plot(times_left, left_channel)\n",
    "plt.plot(times_left[left_motif_index:left_motif_index+m], left_channel[left_motif_index:left_motif_index+m], color=\"red\")\n",
    "plt.title('Left Camera')\n",
    "plt.ylabel('Signal Value')\n",
    "plt.xlabel('Time (s)')\n",
    "plt.xlim(0, left_audio)\n",
    "plt.show()"
   ]
  },
  {
   "cell_type": "code",
   "execution_count": null,
   "id": "86020807",
   "metadata": {},
   "outputs": [],
   "source": [
    "plt.figure(figsize=(15, 5))\n",
    "plt.plot(times_right, right_channel)\n",
    "plt.plot(times_right[right_motif_index:right_motif_index+m], right_channel[right_motif_index:right_motif_index+m], color=\"red\")\n",
    "plt.title('Right Camera')\n",
    "plt.ylabel('Signal Value')\n",
    "plt.xlabel('Time (s)')\n",
    "plt.xlim(0, right_audio)\n",
    "plt.show()"
   ]
  },
  {
   "cell_type": "code",
   "execution_count": null,
   "id": "119cd955",
   "metadata": {},
   "outputs": [],
   "source": [
    "plt.plot(times_right[right_motif_index:right_motif_index+m], right_channel[right_motif_index:right_motif_index+m])\n",
    "plt.title('Right Camera Most Similar Subsequence')\n",
    "plt.ylabel('Signal Value')\n",
    "plt.xlabel('Time (s)')"
   ]
  },
  {
   "cell_type": "code",
   "execution_count": null,
   "id": "10b64579",
   "metadata": {},
   "outputs": [],
   "source": [
    "plt.plot(times_left[left_motif_index:left_motif_index+m], left_channel[left_motif_index:left_motif_index+m])\n",
    "plt.title('Left Camera Most Similar Subsequence')\n",
    "plt.ylabel('Signal Value')\n",
    "plt.xlabel('Time (s)')"
   ]
  },
  {
   "cell_type": "code",
   "execution_count": null,
   "id": "e3e8f035",
   "metadata": {},
   "outputs": [],
   "source": [
    "print(times_left[left_motif_index])\n",
    "print(times_left[-1])\n",
    "print(times_right[right_motif_index])\n",
    "print(times_right[-1])"
   ]
  },
  {
   "cell_type": "code",
   "execution_count": null,
   "id": "4d3c4ed5",
   "metadata": {},
   "outputs": [],
   "source": [
    "# infile = 'left.mp4'\n",
    "# outfile = 'left_test.ts'\n",
    "# subprocess.run([r'C:\\Program Files\\ffmpeg\\bin\\ffmpeg.exe', '-i', infile, outfile])"
   ]
  },
  {
   "cell_type": "code",
   "execution_count": null,
   "id": "4e35ed54",
   "metadata": {},
   "outputs": [],
   "source": [
    "# infile = 'left_test.ts'\n",
    "# outfile = 'left_test.mp4'\n",
    "# subprocess.run([r'C:\\Program Files\\ffmpeg\\bin\\ffmpeg.exe', '-i', infile, outfile])"
   ]
  },
  {
   "cell_type": "code",
   "execution_count": null,
   "id": "abac7729",
   "metadata": {},
   "outputs": [],
   "source": [
    "# ffmpeg_extract_subclip(filename=\"left_test.ts\", t1=times_left[left_motif_index]*1000, t2=times_left[-1]*1000, targetname=\"test.ts\")\n",
    "# #ffmpeg_extract_subclip(\"right.mp4\", times_right[right_motif_index], times_right[-1], targetname=\"right_aligned.mp4\")"
   ]
  },
  {
   "cell_type": "code",
   "execution_count": null,
   "id": "77b7cf3a",
   "metadata": {},
   "outputs": [],
   "source": [
    "# infile = 'test.ts'\n",
    "# outfile = 'test.mp4'\n",
    "# subprocess.run([r'C:\\Program Files\\ffmpeg\\bin\\ffmpeg.exe', '-i', infile, outfile])"
   ]
  },
  {
   "cell_type": "code",
   "execution_count": null,
   "id": "e587247c",
   "metadata": {},
   "outputs": [],
   "source": [
    "# # THIS IS BROKEN FOR SOME REASON. CORRUPT VIDEO\n",
    "# test = VideoFileClip(\"left.mp4\")\n",
    "# test = test.subclip(0,5)\n",
    "\n",
    "# test.to_videofile(\"test.mp4\", codec=\"libx264\", temp_audiofile='temp-audio.m4a', remove_temp=True, audio_codec='aac')"
   ]
  },
  {
   "cell_type": "code",
   "execution_count": null,
   "id": "4b462bcd",
   "metadata": {},
   "outputs": [],
   "source": [
    "test = VideoFileClip(\"left.mp4\")\n",
    "test = test.subclip(times_left[left_motif_index],times_left[-1])\n",
    "\n",
    "test.ipython_display(filename=\"left_trimmed.mp4\", width=360)\n",
    "os.rename(\"__temp__.mp4\", \"left_trimmed.mp4\")"
   ]
  },
  {
   "cell_type": "code",
   "execution_count": null,
   "id": "0a68577c",
   "metadata": {},
   "outputs": [],
   "source": [
    "test = VideoFileClip(\"right.mp4\")\n",
    "test = test.subclip(times_right[right_motif_index],times_right[-1])\n",
    "\n",
    "test.ipython_display(filename=\"right_trimmed.mp4\", width=360)\n",
    "os.rename(\"__temp__.mp4\", \"right_trimmed.mp4\")"
   ]
  },
  {
   "cell_type": "code",
   "execution_count": null,
   "id": "f374fff7",
   "metadata": {},
   "outputs": [],
   "source": [
    "# TODO: Code to put videos side by side for comparison. \n",
    "\n",
    "# left_vid = VideoFileClip(\"left.mp4\")\n",
    "# left_vid = left_vid.subclip(times_left[left_motif_index],times_left[-1])\n",
    "\n",
    "# right_vid = VideoFileClip(\"right.mp4\")\n",
    "# right_vid = right_vid.subclip(times_right[right_motif_index],times_right[-1])\n",
    "\n",
    "# combined = clips_array([[left_vid, right_vid]])\n",
    "# combined.ipython_display(width=360)\n",
    "# os.rename(\"__temp__.mp4\", \"combined_trimmed.mp4\")"
   ]
  },
  {
   "cell_type": "code",
   "execution_count": null,
   "id": "814665fe",
   "metadata": {},
   "outputs": [],
   "source": []
  }
 ],
 "metadata": {
  "kernelspec": {
   "display_name": "Python 3 (ipykernel)",
   "language": "python",
   "name": "python3"
  },
  "language_info": {
   "codemirror_mode": {
    "name": "ipython",
    "version": 3
   },
   "file_extension": ".py",
   "mimetype": "text/x-python",
   "name": "python",
   "nbconvert_exporter": "python",
   "pygments_lexer": "ipython3",
   "version": "3.10.10"
  }
 },
 "nbformat": 4,
 "nbformat_minor": 5
}
